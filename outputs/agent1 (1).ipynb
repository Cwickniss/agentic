{
 "cells": [
  {
   "cell_type": "markdown",
   "id": "e06c733a-1124-44b5-a634-37d0887fdfe6",
   "metadata": {},
   "source": [
    "# Agentic AI Workshop\n",
    "\n",
    "# Introducing: The Price Is Right\n",
    "\n",
    "We are going to build a multi-agent framework that will:\n",
    "1. Pull RSS feeds from the web and interpret them, looking for promising deals (multi-shot prompting, structured outputs)\n",
    "2. Use RAG and a Frontier Model to estimate the price of a product, using a knowledge base\n",
    "3. Use a QLoRA fine tuned LLM to estimate the price\n",
    "4. Send a push notification when it finds a deal that's worth significantly less than it estimates\n",
    "5. A planning agent will orchestrate this\n",
    "\n",
    "If you're having any set up problems, please see the [troubleshooting](../troubleshooting.ipynb) notebook in the parent directory.  \n",
    "For more details on using Jupyter Lab, please see the [Guide To Jupyter](../Guide%20to%20Jupyter.ipynb) notebook.  \n",
    "If you'd like to brush up your Python skills, there's an [Intermediate Python](../Intermediate%20Python.ipynb) notebook.\n",
    "\n",
    "\n",
    "## First: Let's look at the Agent code for interpreting RSS feeds, including figuring out the pricing, using multi-shot prompting\n",
    "\n",
    "## Remember: just get some intuition for this, and run it yourself later.."
   ]
  },
  {
   "cell_type": "code",
   "execution_count": 1,
   "id": "2db71ba5-55a8-48b7-97d5-9db8dc872837",
   "metadata": {},
   "outputs": [],
   "source": [
    "# Some imports\n",
    "\n",
    "from dotenv import load_dotenv\n",
    "from agents.deals import ScrapedDeal\n",
    "from openai import OpenAI\n",
    "import logging"
   ]
  },
  {
   "cell_type": "code",
   "execution_count": 2,
   "id": "b044d040-e467-4463-a3a5-119939ca8199",
   "metadata": {},
   "outputs": [],
   "source": [
    "# Set up our env variables as before\n",
    "\n",
    "load_dotenv()\n",
    "openai = OpenAI()\n",
    "MODEL = \"gpt-4o-mini\""
   ]
  },
  {
   "cell_type": "code",
   "execution_count": 3,
   "id": "a6b8a0f3-af5c-4f21-8a5f-a4df4fa420ad",
   "metadata": {},
   "outputs": [
    {
     "name": "stderr",
     "output_type": "stream",
     "text": [
      "100%|████████████████████████████████████████████████████████████████████████████████████████████████████| 3/3 [00:18<00:00,  6.30s/it]\n"
     ]
    }
   ],
   "source": [
    "# I wrote this code to fetch RSS feeds\n",
    "\n",
    "scraped_deals = ScrapedDeal.fetch(show_progress=True)"
   ]
  },
  {
   "cell_type": "code",
   "execution_count": 5,
   "id": "e50266c2-10b6-4e36-a2cb-a5297c1d8e7a",
   "metadata": {},
   "outputs": [
    {
     "name": "stdout",
     "output_type": "stream",
     "text": [
      "Title: Soundcore by Anker Life A3i Noise Cancelling Earbuds for $35 + free shipping\n",
      "Details: Coupon code \"SAEN2A79\" takes $15 off. Buy Now at Newegg\n",
      "Features: 36 hours playtime 22 custom EQ transparency mode Model: A39920F1\n",
      "URL: https://www.dealnews.com/products/Soundcore-by-Anker/Soundcore-by-Anker-Life-A3-i-Noise-Cancelling-Earbuds/395990.html?iref=rss-c142\n"
     ]
    }
   ],
   "source": [
    "print(scraped_deals[2].describe())"
   ]
  },
  {
   "cell_type": "markdown",
   "id": "800ae99a-03cc-4c8f-ac01-1c87e31923ac",
   "metadata": {},
   "source": [
    "## We are going to ask GPT-4o-mini to summarize deals and identify their price"
   ]
  },
  {
   "cell_type": "code",
   "execution_count": 6,
   "id": "84278b54-5289-4d60-8ea6-7de9f8067663",
   "metadata": {},
   "outputs": [],
   "source": [
    "SYSTEM_PROMPT = \"\"\"You identify and summarize the 4 most detailed deals from a list, by selecting deals that have the most detailed, high quality description and the most clear price.\n",
    "Respond strictly in JSON with no explanation, using this format. You should provide the price as a number derived from the description. If the price of a deal isn't clear, do not include that deal in your response.\n",
    "Most important is that you respond with the 4 deals that have the most detailed product description with price. It's not important to mention the terms of the deal; most important is a thorough description of the product.\n",
    "Be careful with products that are described as \"$XXX off\" or \"reduced by $XXX\" - this isn't the actual price of the product. Only respond with products when you are highly confident about the price. \n",
    "    \n",
    "{\n",
    "    \"deals\": [\n",
    "        {\n",
    "            \"product_description\": \"Your clearly expressed summary of the product in 3-4 sentences. Details of the item are much more important than why it's a good deal. Avoid mentioning discounts and coupons; focus on the item itself. There should be a paragpraph of text for each item you choose.\",\n",
    "            \"price\": 99.99,\n",
    "            \"url\": \"the url as provided\"\n",
    "        },\n",
    "        ...\n",
    "    ]\n",
    "}\"\"\""
   ]
  },
  {
   "cell_type": "code",
   "execution_count": 7,
   "id": "af2545a0-e160-41db-8914-f77b1c7eff26",
   "metadata": {},
   "outputs": [],
   "source": [
    "USER_PROMPT_PREFIX = \"\"\"Respond with the most promising 4 deals from this list, selecting those which have the most detailed, high quality product description and a clear price that is greater than 0.\n",
    "Respond strictly in JSON, and only JSON. You should rephrase the description to be a summary of the product itself, not the terms of the deal.\n",
    "Remember to respond with a paragraph of text in the product_description field for each of the 4 items that you select.\n",
    "Be careful with products that are described as \"$XXX off\" or \"reduced by $XXX\" - this isn't the actual price of the product. Only respond with products when you are highly confident about the price. \n",
    "    \n",
    "Deals:\n",
    "    \n",
    "\"\"\"\n",
    "\n",
    "USER_PROMPT_SUFFIX = \"\"\"\\n\\nStrictly respond in JSON and include exactly 4 deals, no more.\n",
    "Your response must follow this format:\n",
    "\n",
    "{\n",
    "    \"deals\": [\n",
    "        {\n",
    "            \"product_description\": \"Your summary of the product in 3-4 sentences. Details of the item are much more important than why it's a good deal. Avoid mentioning discounts and coupons; focus on the item itself. There should be a paragpraph of text for each item you choose.\",\n",
    "            \"price\": 99.99,\n",
    "            \"url\": \"the url as provided\"\n",
    "        },\n",
    "        {\n",
    "            \"product_description\": \"Your summary of the product in 3-4 sentences. Details of the item are much more important than why it's a good deal. Avoid mentioning discounts and coupons; focus on the item itself. There should be a paragpraph of text for each item you choose.\",\n",
    "            \"price\": 210.30,\n",
    "            \"url\": \"the url as provided\"\n",
    "        },\n",
    "        ...\n",
    "]}\n",
    "\"\"\""
   ]
  },
  {
   "cell_type": "code",
   "execution_count": 8,
   "id": "cf00a4e4-62c7-47a4-8415-2b7b4f86391a",
   "metadata": {},
   "outputs": [],
   "source": [
    "# this makes a suitable user prompt given scraped deals\n",
    "\n",
    "def make_user_prompt(scraped):\n",
    "    user_prompt = USER_PROMPT_PREFIX\n",
    "    user_prompt += '\\n\\n'.join([scrape.describe() for scrape in scraped])\n",
    "    user_prompt += USER_PROMPT_SUFFIX\n",
    "    return user_prompt"
   ]
  },
  {
   "cell_type": "code",
   "execution_count": 9,
   "id": "504ecdac-7228-48eb-80b4-6e31d2dc8f5a",
   "metadata": {},
   "outputs": [
    {
     "name": "stdout",
     "output_type": "stream",
     "text": [
      "Respond with the most promising 4 deals from this list, selecting those which have the most detailed, high quality product description and a clear price that is greater than 0.\n",
      "Respond strictly in JSON, and only JSON. You should rephrase the description to be a summary of the product itself, not the terms of the deal.\n",
      "Remember to respond with a paragraph of text in the product_description field for each of the 4 items that you select.\n",
      "Be careful with products that are described as \"$XXX off\" or \"reduced by $XXX\" - this isn't the actual price of the product. Only respond with products when you are highly confident about the price. \n",
      "    \n",
      "Deals:\n",
      "    \n",
      "Title: MountFTV Full Motion TV Wall Mount for 37\" to 82\" TVs for $22 + free shipping w/ $35\n",
      "Details: Clip the $11 coupon on the product page to get this deal. (You must be logged in to your Walmart account to see the clippable coupon. It's free to join.) That's $4 under our December mention and the best price we've seen. Buy Now at Walmart\n",
      "Features: holds up to 100-lbs.  extends up to 15.4\" and folds 3.2\" from the wall  45° swivel  tilt down 15° or tilt up 5° Model: 58874\n",
      "URL: https://www.dealnews.com/products/Mount-FTV-Full-Motion-TV-Wall-Mount-for-37-to-82-TVs/485585.html?iref=rss-c142\n",
      "\n",
      "Title: SVS Winter Deal Days: Up to 30% off\n",
      "Details: Score deals on a range of home theater speakers and subwoofers, just in time to hear all the crunching hits during the Big Game. We've pictured the SVS SB-4000 Subwoofer for $1,399 - a savings of $500. Shop Now at SVS\n",
      "Features: \n",
      "URL: https://www.dealnews.com/SVS-Winter-Deal-Days-Up-to-30-off/21713906.html?iref=rss-c142\n",
      "\n",
      "Title: Soundcore by Anker Life A3i Noise Cancelling Earbuds for $35 + free shipping\n",
      "Details: Coupon code \"SAEN2A79\" takes $15 off. Buy Now at Newegg\n",
      "Features: 36 hours playtime 22 custom EQ transparency mode Model: A39920F1\n",
      "URL: https://www.dealnews.com/products/Soundcore-by-Anker/Soundcore-by-Anker-Life-A3-i-Noise-Cancelling-Earbuds/395990.html?iref=rss-c142\n",
      "\n",
      "Title: Klip\n"
     ]
    }
   ],
   "source": [
    "# Let's create a user prompt for the deals we just scraped, and look at how it begins\n",
    "\n",
    "user_prompt = make_user_prompt(scraped_deals)\n",
    "print(user_prompt[:2000])"
   ]
  },
  {
   "cell_type": "markdown",
   "id": "9f7dcd64-9f16-4a6c-b822-ca3601c2f631",
   "metadata": {},
   "source": [
    "## Calling OpenAI using their Python client\n",
    "\n",
    "Recall the format of OpenAI calls:\n",
    "\n",
    "When you call OpenAI, you pass in your conversation as a list of python dictionaries:\n",
    "\n",
    "```\n",
    "    [\n",
    "        {\"role\": \"system\", \"content\": \"system_message_goes_here\"},\n",
    "        {\"role\": \"user\", \"content\": \"user_prompt_goes_here\"}\n",
    "    ]\n",
    "```"
   ]
  },
  {
   "cell_type": "code",
   "execution_count": 10,
   "id": "20401a75-c12a-466b-9e66-7cd46ac03443",
   "metadata": {},
   "outputs": [
    {
     "name": "stdout",
     "output_type": "stream",
     "text": [
      "{\n",
      "    \"deals\": [\n",
      "        {\n",
      "            \"product_description\": \"The MountFTV Full Motion TV Wall Mount is designed to accommodate TVs ranging from 37 to 82 inches and can hold weights up to 100 lbs. It features a full motion range that allows for a swivel of 45 degrees and a tilt capability of down 15 degrees or up 5 degrees, ensuring you can achieve the perfect viewing angle. The mount extends 15.4 inches from the wall but can also fold down to just 3.2 inches, making it versatile for various setups.\",\n",
      "            \"price\": 22.00,\n",
      "            \"url\": \"https://www.dealnews.com/products/Mount-FTV-Full-Motion-TV-Wall-Mount-for-37-to-82-TVs/485585.html?iref=rss-c142\"\n",
      "        },\n",
      "        {\n",
      "            \"product_description\": \"The Klipsch Reference 5.2 Home Theater System delivers an immersive audio experience perfect for movie nights and music enthusiasts. It includes two R-625FA Floorstanding Speakers, two R-12SW Subwoofers, one R-52C Center Speaker, and two R-41M Bookshelf Speakers, offering a comprehensive sound setup. Coupled with the Integra DRX 3.4 100W 9.2-Channel 8K Network AV Receiver, this system ensures high-quality sound reproduction across multiple channels.\",\n",
      "            \"price\": 1800.00,\n",
      "            \"url\": \"https://www.dealnews.com/products/Klipsch/Klipsch-Reference-5-2-Home-Theater-System/486508.html?iref=rss-c142\"\n",
      "        },\n",
      "        {\n",
      "            \"product_description\": \"The Flashpoint eVOLV 200 Pro TTL Pocket Flash Kit is an advanced lighting solution ideal for photographers looking for portability without sacrificing quality. This kit features a 200W cordless TTL strobe with interchangeable flash heads, catering to versatile lighting setups. With a stable color mode for consistent color temperature and high-speed sync capabilities of up to 1/8000s, it protects your exposure even in bright conditions.\",\n",
      "            \"price\": 299.00,\n",
      "            \"url\": \"https://www.dealnews.com/Flashpoint-eVOLV-200-Pro-TTL-Pocket-Flash-Kit-for-299-free-shipping/21713871.html?iref=rss-c142\"\n",
      "        },\n",
      "        {\n",
      "            \"product_description\": \"The Emerson Sensi Smart Thermostat offers modern home temperature control with features like 7-day temperature scheduling and compatibility with Sensi Room Sensors. Users can make informed decisions with usage reports and receive alerts regarding equipment and maintenance reminders. This smart thermostat is designed for convenience, allowing easy access and control over home heating and cooling from your smartphone.\",\n",
      "            \"price\": 169.00,\n",
      "            \"url\": \"https://www.dealnews.com/products/Emerson/Emerson-Sensi-Smart-Thermostat/486485.html?iref=rss-f1912\"\n",
      "        }\n",
      "    ]\n",
      "}"
     ]
    }
   ],
   "source": [
    "# Create the user prompt that reflects the deals we have scraped\n",
    "\n",
    "user_prompt = make_user_prompt(scraped_deals)\n",
    "\n",
    "# Call OpenAI using their Python client. Request a response in JSON and stream it back.\n",
    "\n",
    "stream = openai.chat.completions.create(\n",
    "    model=MODEL,\n",
    "    messages=[\n",
    "        {\"role\": \"system\", \"content\": SYSTEM_PROMPT},\n",
    "        {\"role\": \"user\", \"content\": user_prompt}\n",
    "  ],\n",
    "    max_tokens=1000,\n",
    "    stream=True,\n",
    "    response_format={\"type\": \"json_object\"}\n",
    ")\n",
    "\n",
    "response = \"\"\n",
    "for chunk in stream:\n",
    "    chunk_text = chunk.choices[0].delta.content or ''\n",
    "    response += chunk_text\n",
    "    print(chunk_text, end=\"\", flush=True)"
   ]
  },
  {
   "cell_type": "code",
   "execution_count": null,
   "id": "70e74543-5aa6-4b92-bfde-a40451db295f",
   "metadata": {},
   "outputs": [],
   "source": [
    "import json\n",
    "json.loads(response)"
   ]
  },
  {
   "cell_type": "markdown",
   "id": "a99b6d4b-6223-4901-902a-14f1bda34244",
   "metadata": {},
   "source": [
    "# Putting this into an \"Agent\"\n",
    "\n",
    "I've packaged this code into a class called `ScannerAgent`\n",
    "\n",
    "There are various Agent frameworks that add an abstraction layer, but in our case it's easy just to write the code directly."
   ]
  },
  {
   "cell_type": "code",
   "execution_count": 11,
   "id": "81eb5f68-168c-4d6c-936a-40b79f08f26a",
   "metadata": {},
   "outputs": [],
   "source": [
    "root = logging.getLogger()\n",
    "root.setLevel(logging.INFO)"
   ]
  },
  {
   "cell_type": "code",
   "execution_count": 12,
   "id": "9d0af2d8-4419-49a7-af66-218a2d1f986c",
   "metadata": {},
   "outputs": [
    {
     "name": "stderr",
     "output_type": "stream",
     "text": [
      "INFO:root:\u001b[40m\u001b[36m[Scanner Agent] Scanner Agent is initializing\u001b[0m\n",
      "INFO:root:\u001b[40m\u001b[36m[Scanner Agent] Scanner Agent is ready\u001b[0m\n",
      "INFO:root:\u001b[40m\u001b[36m[Scanner Agent] Scanner Agent is about to fetch deals from RSS feed\u001b[0m\n",
      "INFO:root:\u001b[40m\u001b[36m[Scanner Agent] Scanner Agent received 15 deals not already scraped\u001b[0m\n",
      "INFO:root:\u001b[40m\u001b[36m[Scanner Agent] Scanner Agent is calling OpenAI using Structured Output\u001b[0m\n",
      "INFO:httpx:HTTP Request: POST https://api.openai.com/v1/chat/completions \"HTTP/1.1 200 OK\"\n",
      "INFO:root:\u001b[40m\u001b[36m[Scanner Agent] Scanner Agent received 5 selected deals with price>0 from OpenAI\u001b[0m\n"
     ]
    },
    {
     "data": {
      "text/plain": [
       "DealSelection(deals=[Deal(product_description='The MountFTV Full Motion TV Wall Mount is designed for TVs ranging from 37\" to 82\" and can hold up to 100 lbs. It features an extension capability of up to 15.4 inches and can be folded to just 3.2 inches from the wall. The mount offers a 45-degree swivel and tilting options of down 15 degrees and up 5 degrees for optimal viewing angles.', price=22.0, url='https://www.dealnews.com/products/Mount-FTV-Full-Motion-TV-Wall-Mount-for-37-to-82-TVs/485585.html?iref=rss-c142'), Deal(product_description='The SVS SB-4000 Subwoofer delivers powerful and deep bassperformance, making it an excellent addition to any home theater system. With advanced DSP processing and a high-excursion 13-inch driver, it can handle the most impactful soundtracks. Ideal for audiophiles looking for robust sound to enhance their multimedia experience.', price=1399.0, url='https://www.dealnews.com/SVS-Winter-Deal-Days-Up-to-30-off/21713906.html?iref=rss-c142'), Deal(product_description=\"The Soundcore by Anker Life A3i Noise Cancelling Earbuds offer 36 hours of playtime with a customizable EQ and transparency mode. Engineered for high-quality sound and featuring advanced noise cancelation technology, these earbuds are designed to provide a rich listening experience whether you're at home or on the go.\", price=35.0, url='https://www.dealnews.com/products/Soundcore-by-Anker/Soundcore-by-Anker-Life-A3-i-Noise-Cancelling-Earbuds/395990.html?iref=rss-c142'), Deal(product_description='The Klipsch Reference 5.2 Home Theater System includes two R-625FA Floorstanding Speakers, two R-12SW Subwoofers, one R-52C Center Speaker with 2 Surround Speakers, and two R-41M Bookshelf Speakers, paired with an Integra DRX 3.4 100W 9.2-Channel 8K Network AV Receiver. This robust system is tailored for a surround sound experience that captivates movie lovers and audiophiles alike.', price=1800.0, url='https://www.dealnews.com/products/Klipsch/Klipsch-Reference-5-2-Home-Theater-System/486508.html?iref=rss-c142'), Deal(product_description='The Flashpoint eVOLV 200 Pro TTL Pocket Flash Kit is a versatile lighting solution for photographers, featuring a 200W cordless TTL strobe. It includes interchangeable flash heads for different lighting setups and has a Stable Color Mode for consistent temperature across power settings. Compact and lightweight, this kit is ideal for location shoots or on-the-go photography.', price=299.0, url='https://www.dealnews.com/Flashpoint-eVOLV-200-Pro-TTL-Pocket-Flash-Kit-for-299-free-shipping/21713871.html?iref=rss-c142')])"
      ]
     },
     "execution_count": 12,
     "metadata": {},
     "output_type": "execute_result"
    }
   ],
   "source": [
    "from agents.scanner_agent import ScannerAgent\n",
    "\n",
    "scanner = ScannerAgent()\n",
    "scanner.scan()"
   ]
  },
  {
   "cell_type": "code",
   "execution_count": null,
   "id": "425b0702-7b96-4b37-a6d1-4f5dc9deb1ad",
   "metadata": {},
   "outputs": [],
   "source": []
  }
 ],
 "metadata": {
  "kernelspec": {
   "display_name": "Python 3 (ipykernel)",
   "language": "python",
   "name": "python3"
  },
  "language_info": {
   "codemirror_mode": {
    "name": "ipython",
    "version": 3
   },
   "file_extension": ".py",
   "mimetype": "text/x-python",
   "name": "python",
   "nbconvert_exporter": "python",
   "pygments_lexer": "ipython3",
   "version": "3.11.11"
  }
 },
 "nbformat": 4,
 "nbformat_minor": 5
}
