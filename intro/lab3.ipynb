{
 "cells": [
  {
   "cell_type": "markdown",
   "id": "2e6f24ec",
   "metadata": {},
   "source": [
    "# Lab 3\n",
    "\n",
    "Getting the best models on the planet to generate an SVG\n",
    "\n",
    "Inspired by the legendary Simon Willison's Pelican riding a bike test"
   ]
  },
  {
   "cell_type": "code",
   "execution_count": 44,
   "id": "d6b3506e-b46f-44f0-ba9b-6b002835d36a",
   "metadata": {},
   "outputs": [],
   "source": [
    "# imports\n",
    "\n",
    "import os\n",
    "from dotenv import load_dotenv\n",
    "from openai import OpenAI\n",
    "from IPython.display import Markdown, display, SVG\n",
    "from datetime import datetime\n",
    "from litellm import acompletion\n",
    "import asyncio"
   ]
  },
  {
   "cell_type": "code",
   "execution_count": 35,
   "id": "bfae0a99-0235-4256-9874-1b5e718b6fc6",
   "metadata": {},
   "outputs": [
    {
     "name": "stdout",
     "output_type": "stream",
     "text": [
      "OpenAI API Key exists and begins sk-proj-\n",
      "Anthropic API Key exists and begins sk-ant-\n",
      "Google API Key exists and begins AI\n",
      "DeepSeek API Key exists and begins sk-\n",
      "Groq API Key exists and begins gsk_\n",
      "Grok API Key exists and begins xai-\n"
     ]
    }
   ],
   "source": [
    "# Load environment variables in a file called .env\n",
    "# Print the key prefixes to help with any debugging\n",
    "\n",
    "load_dotenv(override=True)\n",
    "openai_api_key = os.getenv('OPENAI_API_KEY')\n",
    "anthropic_api_key = os.getenv('ANTHROPIC_API_KEY')\n",
    "google_api_key = os.getenv('GOOGLE_API_KEY')\n",
    "deepseek_api_key = os.getenv('DEEPSEEK_API_KEY')\n",
    "groq_api_key = os.getenv('GROQ_API_KEY')\n",
    "grok_api_key = os.getenv('GROK_API_KEY')\n",
    "\n",
    "if openai_api_key:\n",
    "    print(f\"OpenAI API Key exists and begins {openai_api_key[:8]}\")\n",
    "else:\n",
    "    print(\"OpenAI API Key not set\")\n",
    "    \n",
    "if anthropic_api_key:\n",
    "    print(f\"Anthropic API Key exists and begins {anthropic_api_key[:7]}\")\n",
    "else:\n",
    "    print(\"Anthropic API Key not set (and this is optional)\")\n",
    "\n",
    "if google_api_key:\n",
    "    print(f\"Google API Key exists and begins {google_api_key[:2]}\")\n",
    "else:\n",
    "    print(\"Google API Key not set (and this is optional)\")\n",
    "\n",
    "if deepseek_api_key:\n",
    "    print(f\"DeepSeek API Key exists and begins {deepseek_api_key[:3]}\")\n",
    "else:\n",
    "    print(\"DeepSeek API Key not set (and this is optional)\")\n",
    "\n",
    "if groq_api_key:\n",
    "    print(f\"Groq API Key exists and begins {groq_api_key[:4]}\")\n",
    "else:\n",
    "    print(\"Groq API Key not set (and this is optional)\")\n",
    "\n",
    "if grok_api_key:\n",
    "    print(f\"Grok API Key exists and begins {grok_api_key[:4]}\")\n",
    "else:\n",
    "    print(\"Grok API Key not set (and this is optional)\")"
   ]
  },
  {
   "cell_type": "markdown",
   "id": "3c5c0d08-2ecb-4fd2-aa22-c6ed64334952",
   "metadata": {},
   "source": [
    "## Connecting to Python Client libraries\n",
    "\n",
    "We call Cloud APIs by making REST calls to an HTTP endpoint, passing in our keys.\n",
    "\n",
    "For convenience, the labs like OpenAI have provided lightweight python client libraries that make the HTTP calls for us."
   ]
  },
  {
   "cell_type": "code",
   "execution_count": 21,
   "id": "242c6483-a9a6-4e3b-b361-e7a8c7f912e0",
   "metadata": {},
   "outputs": [],
   "source": [
    "# Connect to OpenAI client library\n",
    "# A thin wrappes around calls to REST endpoints\n",
    "\n",
    "openai = OpenAI()\n",
    "\n",
    "# For Gemini, DeepSeek and Groq, we can use the OpenAI python client\n",
    "# Because Google and DeepSeek have endpoints compatible with OpenAI\n",
    "# And OpenAI allows you to change the base_url\n",
    "\n",
    "anthropic_url = \"https://api.anthropic.com/v1/\"\n",
    "gemini_url = \"https://generativelanguage.googleapis.com/v1beta/openai/\"\n",
    "deepseek_url = \"https://api.deepseek.com\"\n",
    "groq_url = \"https://api.groq.com/openai/v1\"\n",
    "grok_url = \"https://api.x.ai/v1\"\n",
    "ollama_url = 'http://localhost:11434/v1'\n",
    "\n",
    "anthropic = OpenAI(api_key=anthropic_api_key, base_url=anthropic_url)\n",
    "gemini = OpenAI(api_key=google_api_key, base_url=gemini_url)\n",
    "deepseek = OpenAI(api_key=deepseek_api_key, base_url=deepseek_url)\n",
    "groq = OpenAI(api_key=groq_api_key, base_url=groq_url)\n",
    "grok = OpenAI(api_key=grok_api_key, base_url=grok_url)\n",
    "ollama = OpenAI(base_url=ollama_url, api_key='ollama')\n"
   ]
  },
  {
   "cell_type": "code",
   "execution_count": 42,
   "id": "bbbbcc5b-8517-4a3e-9ca1-e860a072bb42",
   "metadata": {},
   "outputs": [],
   "source": [
    "\n",
    "prompt = \"Generate an SVG of a hedgehog wearing airpods. Respond with the SVG only, no code blocks.\"\n",
    "messages = [{\"role\": \"user\", \"content\": prompt}]\n",
    "\n",
    "\n",
    "async def hedgehog(model, effort=None):\n",
    "    start = datetime.now()\n",
    "    response = await acompletion(model=model, messages=messages, reasoning_effort=effort)\n",
    "    result = response.choices[0].message.content\n",
    "    end = datetime.now()\n",
    "    elapsed = (end - start).total_seconds()\n",
    "    heading = f\"### {model}\\n**Time:** {elapsed // 60:.0f} min {elapsed % 60:.0f} s\\n\\n\"\n",
    "    return heading, result"
   ]
  },
  {
   "cell_type": "code",
   "execution_count": 54,
   "id": "54ad9aaf",
   "metadata": {},
   "outputs": [
    {
     "name": "stderr",
     "output_type": "stream",
     "text": [
      "/var/folders/tl/4_dvbgtd2z142wksgpr03g3h0000gn/T/ipykernel_87959/519223026.py:1: RuntimeWarning: coroutine 'hedgehog' was never awaited\n",
      "  hedgehogs = [\n",
      "RuntimeWarning: Enable tracemalloc to get the object allocation traceback\n"
     ]
    }
   ],
   "source": [
    "hedgehogs = [\n",
    "    hedgehog(\"openai/gpt-5-nano\", effort=\"low\"),\n",
    "    hedgehog(\"deepseek/deepseek-reasoner\"),\n",
    "    hedgehog(\"gemini/gemini-2.5-pro\", effort=\"high\"),\n",
    "    hedgehog(\"xai/grok-4\"),\n",
    "    hedgehog(\"ollama/gpt-oss:20b\", effort=\"high\"),\n",
    "    hedgehog(\"groq/openai/gpt-oss-120b\"),\n",
    "    hedgehog(\"openai/gpt-5\", effort=\"high\"),\n",
    "]"
   ]
  },
  {
   "cell_type": "code",
   "execution_count": 55,
   "id": "4584e77b",
   "metadata": {},
   "outputs": [],
   "source": [
    "results = await asyncio.gather(*hedgehogs)"
   ]
  },
  {
   "cell_type": "code",
   "execution_count": 56,
   "id": "c117d016",
   "metadata": {},
   "outputs": [
    {
     "data": {
      "text/markdown": [
       "### openai/gpt-5-nano\n",
       "**Time:** 0 min 7 s\n",
       "\n"
      ],
      "text/plain": [
       "<IPython.core.display.Markdown object>"
      ]
     },
     "metadata": {},
     "output_type": "display_data"
    },
    {
     "data": {
      "image/svg+xml": [
       "<svg xmlns=\"http://www.w3.org/2000/svg\" width=\"400\" height=\"300\" viewBox=\"0 0 400 300\" role=\"img\" aria-label=\"Hedgehog wearing AirPods\">\n",
       "  <!-- background -->\n",
       "  <rect width=\"100%\" height=\"100%\" fill=\"#e9f0f4\"/>\n",
       "  <!-- hedgehog body -->\n",
       "  <g id=\"hedgehog\" transform=\"translate(90,60)\">\n",
       "    <!-- spines -->\n",
       "    <path d=\"M20,20 C60,0 90,20 120,8 C140,0 160,20 180,12 C160,40 170,60 150,90 C120,110 90,100 60,120 C40,130 20,110 10,90 C0,60 12,40 20,20 Z\" fill=\"#6e3d2a\" opacity=\"0.55\"/>\n",
       "    <path d=\"M0,40 C8,28 18,20 28,14 C50,2 82,0 110,10 C92,28 76,38 58,50 C30,60 6,60 0,40 Z\" fill=\"#6e3d2a\" opacity=\"0.6\"/>\n",
       "    <path d=\"M-2,60 C18,34 50,20 90,28 C110,32 140,40 150,60 C120,70 90,78 60,88 C40,78 16,68 -2,60 Z\" fill=\"#6e3d2a\" opacity=\"0.6\"/>\n",
       "    <!-- body -->\n",
       "    <ellipse cx=\"100\" cy=\"120\" rx=\"90\" ry=\"70\" fill=\"#a66d42\"/>\n",
       "    <!-- face -->\n",
       "    <ellipse cx=\"70\" cy=\"110\" rx=\"40\" ry=\"38\" fill=\"#d9a36f\"/>\n",
       "    <!-- eyes -->\n",
       "    <circle cx=\"58\" cy=\"106\" r=\"4\" fill=\"#1b1b1b\"/>\n",
       "    <circle cx=\"82\" cy=\"106\" r=\"4\" fill=\"#1b1b1b\"/>\n",
       "    <!-- nose -->\n",
       "    <circle cx=\"68\" cy=\"118\" r=\"4\" fill=\"#000\"/>\n",
       "    <!-- cheeks -->\n",
       "    <circle cx=\"52\" cy=\"120\" r=\"4\" fill=\"#f1a89a\" opacity=\"0.6\"/>\n",
       "    <!-- feet -->\n",
       "    <ellipse cx=\"30\" cy=\"165\" rx=\"18\" ry=\"12\" fill=\"#8b5a2a\"/>\n",
       "    <ellipse cx=\"118\" cy=\"168\" rx=\"18\" ry=\"12\" fill=\"#8b5a2a\"/>\n",
       "  </g>\n",
       "\n",
       "  <!-- AirPods left (in hedgehog left ear area) -->\n",
       "  <g transform=\"translate(170,90) scale(0.9)\">\n",
       "    <g>\n",
       "      <path d=\"M0,0 C18,-6 34,-4 40,6 C46,16 12,24 -4,18 C-2,8 -8,4 0,0 Z\" fill=\"#ffffff\" stroke=\"#d0d0d0\" stroke-width=\"2\"/>\n",
       "      <!-- stem -->\n",
       "      <path d=\"M28,-6 C34,-6 38,-4 38,0 C38,4 32,6 28,6 Z\" fill=\"#ffffff\" opacity=\"0.95\"/>\n",
       "      <circle cx=\"8\" cy=\"6\" r=\"2\" fill=\"#cfd8e3\"/>\n",
       "    </g>\n",
       "  </g>\n",
       "\n",
       "  <!-- AirPods right (in hedgehog right ear area) -->\n",
       "  <g transform=\"translate(260,90) scale(0.9)\">\n",
       "    <g>\n",
       "      <path d=\"M0,0 C18,-6 34,-4 40,6 C46,16 12,24 -4,18 C-2,8 -8,4 0,0 Z\" fill=\"#ffffff\" stroke=\"#d0d0d0\" stroke-width=\"2\"/>\n",
       "      <!-- stem -->\n",
       "      <path d=\"M28,-6 C34,-6 38,-4 38,0 C38,4 32,6 28,6 Z\" fill=\"#ffffff\" opacity=\"0.95\"/>\n",
       "      <circle cx=\"8\" cy=\"6\" r=\"2\" fill=\"#cfd8e3\"/>\n",
       "    </g>\n",
       "  </g>\n",
       "\n",
       "  <!-- subtle shadow -->\n",
       "  <ellipse cx=\"180\" cy=\"210\" rx=\"120\" ry=\"20\" fill=\"#000\" opacity=\"0.08\"/>\n",
       "</svg>"
      ],
      "text/plain": [
       "<IPython.core.display.SVG object>"
      ]
     },
     "metadata": {},
     "output_type": "display_data"
    },
    {
     "data": {
      "text/markdown": [
       "### deepseek/deepseek-reasoner\n",
       "**Time:** 0 min 23 s\n",
       "\n"
      ],
      "text/plain": [
       "<IPython.core.display.Markdown object>"
      ]
     },
     "metadata": {},
     "output_type": "display_data"
    },
    {
     "data": {
      "image/svg+xml": [
       "<svg xmlns=\"http://www.w3.org/2000/svg\" width=\"200\" height=\"200\" viewBox=\"0 0 200 200\">\n",
       "  <!-- Hedgehog Body -->\n",
       "  <ellipse cx=\"100\" cy=\"140\" rx=\"60\" ry=\"40\" fill=\"#A67B5B\"/>\n",
       "  \n",
       "  <!-- Spines -->\n",
       "  <path d=\"M 40 140 Q 100 40 160 140\" stroke=\"#8B5A2B\" stroke-width=\"35\" fill=\"none\" stroke-linecap=\"round\"/>\n",
       "  \n",
       "  <!-- Head -->\n",
       "  <circle cx=\"100\" cy=\"80\" r=\"30\" fill=\"#A67B5B\"/>\n",
       "  \n",
       "  <!-- Snout -->\n",
       "  <ellipse cx=\"100\" cy=\"90\" rx=\"15\" ry=\"10\" fill=\"#D2B48C\"/>\n",
       "  <circle cx=\"95\" cy=\"88\" r=\"2\" fill=\"black\"/>\n",
       "  <circle cx=\"105\" cy=\"88\" r=\"2\" fill=\"black\"/>\n",
       "  \n",
       "  <!-- Ears -->\n",
       "  <circle cx=\"85\" cy=\"65\" r=\"8\" fill=\"#A67B5B\"/>\n",
       "  <circle cx=\"115\" cy=\"65\" r=\"8\" fill=\"#A67B5B\"/>\n",
       "  \n",
       "  <!-- AirPods -->\n",
       "  <circle cx=\"75\" cy=\"65\" r=\"5\" fill=\"white\" stroke=\"lightgray\" stroke-width=\"1\"/>\n",
       "  <rect x=\"70\" y=\"65\" width=\"15\" height=\"3\" fill=\"white\" stroke=\"lightgray\" stroke-width=\"1\"/>\n",
       "  \n",
       "  <circle cx=\"125\" cy=\"65\" r=\"5\" fill=\"white\" stroke=\"lightgray\" stroke-width=\"1\"/>\n",
       "  <rect x=\"115\" y=\"65\" width=\"15\" height=\"3\" fill=\"white\" stroke=\"lightgray\" stroke-width=\"1\"/>\n",
       "</svg>"
      ],
      "text/plain": [
       "<IPython.core.display.SVG object>"
      ]
     },
     "metadata": {},
     "output_type": "display_data"
    },
    {
     "data": {
      "text/markdown": [
       "### gemini/gemini-2.5-pro\n",
       "**Time:** 0 min 40 s\n",
       "\n"
      ],
      "text/plain": [
       "<IPython.core.display.Markdown object>"
      ]
     },
     "metadata": {},
     "output_type": "display_data"
    },
    {
     "data": {
      "image/svg+xml": [
       "<svg xmlns=\"http://www.w3.org/2000/svg\" width=\"200\" height=\"200\" viewBox=\"0 0 100 100\">\n",
       "  <!-- Hedgehog Spiky Body -->\n",
       "  <path d=\"M 25,85 C 40,95 70,95 85,85 L 90,65 L 82,60 L 87,50 L 77,45 L 82,35 L 72,30 L 67,35 L 57,28 L 52,35 L 42,30 L 37,40 L 27,50 C 20,60 20,75 25,85 Z\" fill=\"#6D4C41\"/>\n",
       "  \n",
       "  <!-- Hedgehog Face/Belly -->\n",
       "  <path d=\"M 27,50 C 35,45 50,60 55,75 C 50,83 35,85 25,85 C 20,75 20,60 27,50 Z\" fill=\"#F5E6CC\"/>\n",
       "  \n",
       "  <!-- Ear -->\n",
       "  <path d=\"M 48 52 C 54 46, 60 50, 58 56 Z\" fill=\"#F5E6CC\" stroke=\"#D2B48C\" stroke-width=\"0.5\"/>\n",
       "  \n",
       "  <!-- AirPod -->\n",
       "  <g transform=\"rotate(10, 55, 55)\">\n",
       "    <path d=\"M 55 52 A 4 4 0 1 1 55 44 L 54 44 L 52 58 A 1.5 1.5 0 0 0 55 59.5 A 1.5 1.5 0 0 0 58 58 L 56 44 L 55 44\" fill=\"#FFFFFF\" stroke=\"#BDBDBD\" stroke-width=\"0.75\"/>\n",
       "  </g>\n",
       "  \n",
       "  <!-- Eye -->\n",
       "  <circle cx=\"40\" cy=\"62\" r=\"2.5\" fill=\"#212121\"/>\n",
       "  <circle cx=\"41\" cy=\"61\" r=\"0.7\" fill=\"white\"/>\n",
       "  \n",
       "  <!-- Nose -->\n",
       "  <circle cx=\"28\" cy=\"72\" r=\"3\" fill=\"#424242\"/>\n",
       "  \n",
       "  <!-- Smile -->\n",
       "  <path d=\"M 38 75 Q 43 78, 48 74\" fill=\"none\" stroke=\"#616161\" stroke-width=\"1\" stroke-linecap=\"round\"/>\n",
       "</svg>"
      ],
      "text/plain": [
       "<IPython.core.display.SVG object>"
      ]
     },
     "metadata": {},
     "output_type": "display_data"
    },
    {
     "data": {
      "text/markdown": [
       "### xai/grok-4\n",
       "**Time:** 0 min 18 s\n",
       "\n"
      ],
      "text/plain": [
       "<IPython.core.display.Markdown object>"
      ]
     },
     "metadata": {},
     "output_type": "display_data"
    },
    {
     "data": {
      "image/svg+xml": [
       "<svg xmlns=\"http://www.w3.org/2000/svg\" width=\"300\" height=\"300\" viewBox=\"0 0 300 300\">\n",
       "  <!-- Hedgehog body -->\n",
       "  <ellipse cx=\"150\" cy=\"200\" rx=\"100\" ry=\"80\" fill=\"#8B4513\"/>\n",
       "  \n",
       "  <!-- Spikes -->\n",
       "  <path d=\"M150 200 L120 100 L130 200 M150 200 L180 100 L170 200 M150 200 L100 120 L110 200 M150 200 L200 120 L190 200 M150 200 L80 140 L90 200 M150 200 L220 140 L210 200\" stroke=\"#A0522D\" stroke-width=\"5\" fill=\"none\"/>\n",
       "  \n",
       "  <!-- Head -->\n",
       "  <circle cx=\"150\" cy=\"150\" r=\"50\" fill=\"#8B4513\"/>\n",
       "  \n",
       "  <!-- Ears -->\n",
       "  <path d=\"M110 120 Q100 100 120 100 Z\" fill=\"#8B4513\"/>\n",
       "  <path d=\"M190 120 Q200 100 180 100 Z\" fill=\"#8B4513\"/>\n",
       "  \n",
       "  <!-- Eyes -->\n",
       "  <circle cx=\"130\" cy=\"140\" r=\"5\" fill=\"black\"/>\n",
       "  <circle cx=\"170\" cy=\"140\" r=\"5\" fill=\"black\"/>\n",
       "  \n",
       "  <!-- Nose -->\n",
       "  <circle cx=\"150\" cy=\"160\" r=\"3\" fill=\"black\"/>\n",
       "  \n",
       "  <!-- AirPods -->\n",
       "  <!-- Left AirPod -->\n",
       "  <rect x=\"105\" y=\"105\" width=\"10\" height=\"20\" rx=\"5\" fill=\"white\"/>\n",
       "  <rect x=\"107\" y=\"125\" width=\"6\" height=\"10\" fill=\"white\"/>\n",
       "  \n",
       "  <!-- Right AirPod -->\n",
       "  <rect x=\"185\" y=\"105\" width=\"10\" height=\"20\" rx=\"5\" fill=\"white\"/>\n",
       "  <rect x=\"187\" y=\"125\" width=\"6\" height=\"10\" fill=\"white\"/>\n",
       "</svg>"
      ],
      "text/plain": [
       "<IPython.core.display.SVG object>"
      ]
     },
     "metadata": {},
     "output_type": "display_data"
    },
    {
     "data": {
      "text/markdown": [
       "### ollama/gpt-oss:20b\n",
       "**Time:** 2 min 55 s\n",
       "\n"
      ],
      "text/plain": [
       "<IPython.core.display.Markdown object>"
      ]
     },
     "metadata": {},
     "output_type": "display_data"
    },
    {
     "data": {
      "image/svg+xml": [
       "<svg xmlns=\"http://www.w3.org/2000/svg\" width=\"200\" height=\"200\" viewBox=\"0 0 200 200\">\n",
       "  <rect width=\"200\" height=\"200\" fill=\"white\"/>\n",
       "  <circle cx=\"100\" cy=\"130\" r=\"30\" fill=\"#C49E69\"/>\n",
       "  <circle cx=\"100\" cy=\"80\" r=\"50\" fill=\"#C49E69\"/>\n",
       "  <g stroke=\"#A87E5C\" stroke-width=\"8\" stroke-linecap=\"round\">\n",
       "    <line x1=\"100\" y1=\"80\" x2=\"170\" y2=\"80\"/>\n",
       "    <line x1=\"100\" y1=\"80\" x2=\"160.6\" y2=\"115\"/>\n",
       "    <line x1=\"100\" y1=\"80\" x2=\"135\" y2=\"140.6\"/>\n",
       "    <line x1=\"100\" y1=\"80\" x2=\"100\" y2=\"150\"/>\n",
       "    <line x1=\"100\" y1=\"80\" x2=\"65\" y2=\"140.6\"/>\n",
       "    <line x1=\"100\" y1=\"80\" x2=\"39.4\" y2=\"115\"/>\n",
       "    <line x1=\"100\" y1=\"80\" x2=\"30\" y2=\"80\"/>\n",
       "    <line x1=\"100\" y1=\"80\" x2=\"39.4\" y2=\"45\"/>\n",
       "    <line x1=\"100\" y1=\"80\" x2=\"65\" y2=\"19.4\"/>\n",
       "    <line x1=\"100\" y1=\"80\" x2=\"100\" y2=\"10\"/>\n",
       "    <line x1=\"100\" y1=\"80\" x2=\"135\" y2=\"19.4\"/>\n",
       "    <line x1=\"100\" y1=\"80\" x2=\"160.6\" y2=\"45\"/>\n",
       "  </g>\n",
       "  <ellipse cx=\"70\" cy=\"60\" rx=\"8\" ry=\"12\" fill=\"white\" stroke=\"black\" stroke-width=\"2\"/>\n",
       "  <ellipse cx=\"130\" cy=\"60\" rx=\"8\" ry=\"12\" fill=\"white\" stroke=\"black\" stroke-width=\"2\"/>\n",
       "  <line x1=\"70\" y1=\"60\" x2=\"80\" y2=\"60\" stroke=\"black\" stroke-width=\"2\"/>\n",
       "  <line x1=\"130\" y1=\"60\" x2=\"120\" y2=\"60\" stroke=\"black\" stroke-width=\"2\"/>\n",
       "  <circle cx=\"80\" cy=\"60\" r=\"5\" fill=\"black\"/>\n",
       "  <circle cx=\"120\" cy=\"60\" r=\"5\" fill=\"black\"/>\n",
       "  <circle cx=\"80\" cy=\"70\" r=\"5\" fill=\"black\"/>\n",
       "  <circle cx=\"120\" cy=\"70\" r=\"5\" fill=\"black\"/>\n",
       "  <circle cx=\"100\" cy=\"85\" r=\"5\" fill=\"black\"/>\n",
       "  <path d=\"M90,90 Q100,100 110,90\" fill=\"none\" stroke=\"black\" stroke-width=\"2\"/>\n",
       "</svg>"
      ],
      "text/plain": [
       "<IPython.core.display.SVG object>"
      ]
     },
     "metadata": {},
     "output_type": "display_data"
    },
    {
     "data": {
      "text/markdown": [
       "### groq/openai/gpt-oss-120b\n",
       "**Time:** 0 min 2 s\n",
       "\n"
      ],
      "text/plain": [
       "<IPython.core.display.Markdown object>"
      ]
     },
     "metadata": {},
     "output_type": "display_data"
    },
    {
     "data": {
      "image/svg+xml": [
       "<svg xmlns=\"http://www.w3.org/2000/svg\" viewBox=\"0 0 200 200\" width=\"200\" height=\"200\">\n",
       "  <!-- Hedgehog body -->\n",
       "  <path d=\"M50,140             Q80,120 110,130             Q140,140 150,110             Q160,80 130,70             Q100,60 80,70             Q60,80 50,100 Z\" fill=\"#8B4513\" stroke=\"#5A2D0C\" stroke-width=\"2\"/>\n",
       "  <!-- Spikes -->\n",
       "  <polygon points=\"70,120 78,115 76,125\" fill=\"#5A2D0C\"/>\n",
       "  <polygon points=\"80,115 88,110 86,120\" fill=\"#5A2D0C\"/>\n",
       "  <polygon points=\"90,110 98,105 96,115\" fill=\"#5A2D0C\"/>\n",
       "  <polygon points=\"100,105 108,100 106,110\" fill=\"#5A2D0C\"/>\n",
       "  <polygon points=\"110,100 118,95 116,105\" fill=\"#5A2D0C\"/>\n",
       "  <polygon points=\"120,95 128,90 126,100\" fill=\"#5A2D0C\"/>\n",
       "  <polygon points=\"130,90 138,85 136,95\" fill=\"#5A2D0C\"/>\n",
       "  <polygon points=\"140,85 148,80 146,90\" fill=\"#5A2D0C\"/>\n",
       "  <!-- Head -->\n",
       "  <circle cx=\"80\" cy=\"80\" r=\"20\" fill=\"#8B5A2B\" stroke=\"#5A2D0C\" stroke-width=\"2\"/>\n",
       "  <!-- Nose -->\n",
       "  <polygon points=\"98,80 108,78 108,82\" fill=\"#5A2D0C\"/>\n",
       "  <!-- Eyes -->\n",
       "  <circle cx=\"73\" cy=\"75\" r=\"2\" fill=\"#000\"/>\n",
       "  <circle cx=\"87\" cy=\"75\" r=\"2\" fill=\"#000\"/>\n",
       "  <!-- AirPods -->\n",
       "  <!-- Left AirPod -->\n",
       "  <circle cx=\"70\" cy=\"70\" r=\"8\" fill=\"#C0C0C0\" stroke=\"#999\" stroke-width=\"1\"/>\n",
       "  <line x1=\"70\" y1=\"78\" x2=\"70\" y2=\"90\" stroke=\"#999\" stroke-width=\"2\"/>\n",
       "  <!-- Right AirPod -->\n",
       "  <circle cx=\"90\" cy=\"70\" r=\"8\" fill=\"#C0C0C0\" stroke=\"#999\" stroke-width=\"1\"/>\n",
       "  <line x1=\"90\" y1=\"78\" x2=\"90\" y2=\"90\" stroke=\"#999\" stroke-width=\"2\"/>\n",
       "  <!-- AirPod case (optional) -->\n",
       "  <rect x=\"65\" y=\"92\" width=\"40\" height=\"15\" rx=\"5\" fill=\"#999\" stroke=\"#777\" stroke-width=\"2\"/>\n",
       "</svg>"
      ],
      "text/plain": [
       "<IPython.core.display.SVG object>"
      ]
     },
     "metadata": {},
     "output_type": "display_data"
    },
    {
     "data": {
      "text/markdown": [
       "### openai/gpt-5\n",
       "**Time:** 1 min 42 s\n",
       "\n"
      ],
      "text/plain": [
       "<IPython.core.display.Markdown object>"
      ]
     },
     "metadata": {},
     "output_type": "display_data"
    },
    {
     "data": {
      "image/svg+xml": [
       "<svg xmlns=\"http://www.w3.org/2000/svg\" viewBox=\"0 0 512 512\" width=\"512\" height=\"512\" role=\"img\" aria-label=\"Hedgehog wearing AirPods\">\n",
       "  <defs>\n",
       "    <radialGradient id=\"bodyGrad\" cx=\"270\" cy=\"300\" r=\"160\" gradientUnits=\"userSpaceOnUse\">\n",
       "      <stop offset=\"0\" stop-color=\"#f9d8b3\"/>\n",
       "      <stop offset=\"0.6\" stop-color=\"#f0c39a\"/>\n",
       "      <stop offset=\"1\" stop-color=\"#d6a57d\"/>\n",
       "    </radialGradient>\n",
       "    <linearGradient id=\"spikeGrad\" x1=\"0\" y1=\"160\" x2=\"0\" y2=\"380\" gradientUnits=\"userSpaceOnUse\">\n",
       "      <stop offset=\"0\" stop-color=\"#7a4e3a\"/>\n",
       "      <stop offset=\"0.6\" stop-color=\"#5f3b2c\"/>\n",
       "      <stop offset=\"1\" stop-color=\"#3f261d\"/>\n",
       "    </linearGradient>\n",
       "    <linearGradient id=\"airpodGrad\" x1=\"0\" y1=\"0\" x2=\"0\" y2=\"1\">\n",
       "      <stop offset=\"0\" stop-color=\"#ffffff\"/>\n",
       "      <stop offset=\"0.5\" stop-color=\"#f2f2f2\"/>\n",
       "      <stop offset=\"1\" stop-color=\"#e0e0e0\"/>\n",
       "    </linearGradient>\n",
       "  </defs>\n",
       "\n",
       "  <!-- ground shadow -->\n",
       "  <ellipse cx=\"280\" cy=\"420\" rx=\"160\" ry=\"18\" fill=\"#000000\" opacity=\"0.12\"/>\n",
       "\n",
       "  <!-- spines -->\n",
       "  <path d=\"M330 200            L305 170            L285 192            L265 170            L245 192            L225 170            L205 192            L185 178            L165 198            L150 220            L135 245            L125 270            L128 298            L142 320            L160 340            L185 360            L210 372            L235 380            L260 376            L285 365            L310 350            L330 330            L345 305            L355 280            L355 255            L350 230 Z\" fill=\"url(#spikeGrad)\" stroke=\"#4c2f23\" stroke-opacity=\"0.35\" stroke-width=\"2\" stroke-linejoin=\"round\"/>\n",
       "\n",
       "  <!-- legs (peek from under belly) -->\n",
       "  <ellipse cx=\"220\" cy=\"398\" rx=\"16\" ry=\"9\" fill=\"#6f4b3b\" opacity=\"0.95\"/>\n",
       "  <ellipse cx=\"255\" cy=\"410\" rx=\"17\" ry=\"9\" fill=\"#6f4b3b\" opacity=\"0.95\"/>\n",
       "  <ellipse cx=\"295\" cy=\"410\" rx=\"17\" ry=\"9\" fill=\"#6f4b3b\" opacity=\"0.95\"/>\n",
       "  <ellipse cx=\"330\" cy=\"400\" rx=\"16\" ry=\"9\" fill=\"#6f4b3b\" opacity=\"0.95\"/>\n",
       "\n",
       "  <!-- body -->\n",
       "  <ellipse cx=\"270\" cy=\"300\" rx=\"145\" ry=\"110\" fill=\"url(#bodyGrad)\" stroke=\"#8a5d48\" stroke-opacity=\"0.22\" stroke-width=\"2\"/>\n",
       "\n",
       "  <!-- snout -->\n",
       "  <path d=\"M400 285            Q435 300 400 315            Q395 308 395 292 Z\" fill=\"url(#bodyGrad)\" stroke=\"#8a5d48\" stroke-opacity=\"0.22\" stroke-width=\"2\"/>\n",
       "\n",
       "  <!-- ears -->\n",
       "  <g>\n",
       "    <circle cx=\"322\" cy=\"235\" r=\"18\" fill=\"#6f4b3b\"/>\n",
       "    <circle cx=\"322\" cy=\"235\" r=\"10.5\" fill=\"#ebc3a8\"/>\n",
       "  </g>\n",
       "  <g opacity=\"0.95\">\n",
       "    <circle cx=\"300\" cy=\"245\" r=\"15\" fill=\"#6f4b3b\"/>\n",
       "    <circle cx=\"300\" cy=\"245\" r=\"8.5\" fill=\"#ebc3a8\"/>\n",
       "  </g>\n",
       "\n",
       "  <!-- AirPods -->\n",
       "  <g>\n",
       "    <!-- right ear AirPod -->\n",
       "    <g>\n",
       "      <circle cx=\"326\" cy=\"238\" r=\"7\" fill=\"#ffffff\" stroke=\"#e0e0e0\" stroke-width=\"1\"/>\n",
       "      <rect x=\"323\" y=\"244\" width=\"6\" height=\"24\" rx=\"3\" fill=\"url(#airpodGrad)\" stroke=\"#d9d9d9\" transform=\"rotate(12 326 256)\"/>\n",
       "      <circle cx=\"325\" cy=\"267\" r=\"1.6\" fill=\"#666666\"/>\n",
       "    </g>\n",
       "    <!-- left ear AirPod -->\n",
       "    <g opacity=\"0.98\">\n",
       "      <circle cx=\"302\" cy=\"247\" r=\"6.5\" fill=\"#ffffff\" stroke=\"#e0e0e0\" stroke-width=\"1\"/>\n",
       "      <rect x=\"299\" y=\"252\" width=\"6\" height=\"22\" rx=\"3\" fill=\"url(#airpodGrad)\" stroke=\"#d9d9d9\" transform=\"rotate(5 302 262)\"/>\n",
       "      <circle cx=\"301\" cy=\"272\" r=\"1.5\" fill=\"#666666\"/>\n",
       "    </g>\n",
       "  </g>\n",
       "\n",
       "  <!-- face details -->\n",
       "  <circle cx=\"365\" cy=\"285\" r=\"6\" fill=\"#1a1a1a\"/>\n",
       "  <circle cx=\"367\" cy=\"283.5\" r=\"2\" fill=\"#ffffff\" opacity=\"0.9\"/>\n",
       "  <circle cx=\"430\" cy=\"300\" r=\"6\" fill=\"#1f1f1f\"/>\n",
       "  <circle cx=\"432\" cy=\"298.5\" r=\"1.5\" fill=\"#ffffff\" opacity=\"0.8\"/>\n",
       "  <path d=\"M415 307 Q420 310 425 308\" fill=\"none\" stroke=\"#5a4035\" stroke-width=\"2\" stroke-linecap=\"round\"/>\n",
       "\n",
       "  <!-- subtle belly highlight -->\n",
       "  <ellipse cx=\"250\" cy=\"310\" rx=\"70\" ry=\"50\" fill=\"#ffffff\" opacity=\"0.15\"/>\n",
       "</svg>"
      ],
      "text/plain": [
       "<IPython.core.display.SVG object>"
      ]
     },
     "metadata": {},
     "output_type": "display_data"
    }
   ],
   "source": [
    "for result in results:\n",
    "    display(Markdown(result[0]))\n",
    "    display(SVG(result[1]))"
   ]
  },
  {
   "cell_type": "code",
   "execution_count": null,
   "id": "93f979e4",
   "metadata": {},
   "outputs": [],
   "source": []
  }
 ],
 "metadata": {
  "kernelspec": {
   "display_name": ".venv",
   "language": "python",
   "name": "python3"
  },
  "language_info": {
   "codemirror_mode": {
    "name": "ipython",
    "version": 3
   },
   "file_extension": ".py",
   "mimetype": "text/x-python",
   "name": "python",
   "nbconvert_exporter": "python",
   "pygments_lexer": "ipython3",
   "version": "3.12.12"
  }
 },
 "nbformat": 4,
 "nbformat_minor": 5
}
